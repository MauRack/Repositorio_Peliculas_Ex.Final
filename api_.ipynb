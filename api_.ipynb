{
 "cells": [
  {
   "cell_type": "markdown",
   "id": "97168316-7c5c-41f3-8629-53d06259387d",
   "metadata": {},
   "source": [
    "# API’s "
   ]
  },
  {
   "cell_type": "markdown",
   "id": "f84a96c9-22d1-48d8-9799-6b74b99a5b0e",
   "metadata": {},
   "source": [
    "## Open Movie Database : OMDB API\n",
    "[https://www.omdbapi.com](https://www.omdbapi.com)\n"
   ]
  },
  {
   "cell_type": "code",
   "execution_count": 13,
   "id": "e6c4993f-2626-4dd1-9999-2b04eaa402d9",
   "metadata": {},
   "outputs": [
    {
     "name": "stdin",
     "output_type": "stream",
     "text": [
      "ingrese la pelicula o serie  the flash\n"
     ]
    },
    {
     "name": "stdout",
     "output_type": "stream",
     "text": [
      "Título: The Flash\n",
      "Año: 2014–2023\n",
      "Género: Action, Adventure, Drama\n",
      "Director: N/A\n",
      "Actores: Grant Gustin, Candice Patton, Danielle Panabaker\n",
      "Trama: After being struck by lightning, Barry Allen wakes up from his coma to discover he's been given the power of super speed, becoming the Flash, and fighting crime in Central City.\n",
      "Poster URL: https://m.media-amazon.com/images/M/MV5BMjU0ZjZhNDQtMDhkYi00OWQyLWE3NGYtNzBlY2VmM2I4ZDg5XkEyXkFqcGc@._V1_SX300.jpg\n"
     ]
    }
   ],
   "source": [
    "# Configuración de la clave de la API y la URL\n",
    "api_key = \"538bda4b\"\n",
    "movie_title = input( \"ingrese la pelicula o serie \")  # Título de la película\n",
    "api_url = f\"http://www.omdbapi.com/?apikey={api_key}&t={movie_title}\"\n",
    "\n",
    "# Realizar la solicitud GET a la API\n",
    "response = requests.get(api_url)\n",
    "\n",
    "# Verificar si la solicitud fue exitosa\n",
    "if response.status_code == 200:\n",
    "    movie_data = response.json()\n",
    "    \n",
    "    # Verificar si la película fue encontrada\n",
    "    if movie_data.get(\"Response\") == \"True\":\n",
    "        # Mostrar información de la película\n",
    "        print(\"Título:\", movie_data.get(\"Title\"))\n",
    "        print(\"Año:\", movie_data.get(\"Year\"))\n",
    "        print(\"Género:\", movie_data.get(\"Genre\"))\n",
    "        print(\"Director:\", movie_data.get(\"Director\"))\n",
    "        print(\"Actores:\", movie_data.get(\"Actors\"))\n",
    "        print(\"Trama:\", movie_data.get(\"Plot\"))\n",
    "        print(\"Poster URL:\", movie_data.get(\"Poster\"))\n",
    "    else:\n",
    "        print(\"Error:\", movie_data.get(\"Error\"))\n",
    "else:\n",
    "    print(\"Error en la solicitud:\", response.status_code)"
   ]
  },
  {
   "cell_type": "code",
   "execution_count": null,
   "id": "496e2aa3-187e-424c-8749-a5cb8f60ee7c",
   "metadata": {},
   "outputs": [],
   "source": []
  }
 ],
 "metadata": {
  "kernelspec": {
   "display_name": "Python 3 (ipykernel)",
   "language": "python",
   "name": "python3"
  },
  "language_info": {
   "codemirror_mode": {
    "name": "ipython",
    "version": 3
   },
   "file_extension": ".py",
   "mimetype": "text/x-python",
   "name": "python",
   "nbconvert_exporter": "python",
   "pygments_lexer": "ipython3",
   "version": "3.12.4"
  }
 },
 "nbformat": 4,
 "nbformat_minor": 5
}
