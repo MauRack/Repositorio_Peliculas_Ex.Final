{
 "cells": [
  {
   "cell_type": "markdown",
   "id": "97168316-7c5c-41f3-8629-53d06259387d",
   "metadata": {},
   "source": [
    "# API’s "
   ]
  },
  {
   "cell_type": "markdown",
   "id": "f84a96c9-22d1-48d8-9799-6b74b99a5b0e",
   "metadata": {},
   "source": [
    "## Open Movie Database : OMDB API\n",
    "[https://www.omdbapi.com](https://www.omdbapi.com)\n"
   ]
  },
  {
   "cell_type": "markdown",
   "id": "08cb1b2f-7b55-467c-8f90-6d5b367396af",
   "metadata": {},
   "source": [
    "IMDb, Internet Movie Database (Base de Datos de películas en Internet) es la base de datos de películas más grande y completa de la web que almacena información relacionada con películas, personal del equipo de producción, directores, actores, bandas sonoras, series de televisión, programas de televisión, videojuegos, actores de doblaje, reseñas, avances de películas, críticas cinematográficas y, más recientemente, personajes ficticios que aparecen en los medios de entretenimiento visual."
   ]
  },
  {
   "cell_type": "markdown",
   "id": "06df6094-6b70-4dce-b71d-b0bdf8fe94b4",
   "metadata": {},
   "source": [
    "![google](https://www.nebrija.com/medios/nebrijaglobalcampus/wp-content/uploads/sites/31/2022/07/imagen_02.jpg)"
   ]
  },
  {
   "cell_type": "markdown",
   "id": "0a9b6574-485a-4cf6-bb09-73b5457f083c",
   "metadata": {},
   "source": [
    "### ¿Por qué no se puede acceder a toda la base de datos de OMDb API?\n",
    "OMDb API utiliza un modelo basado en solicitudes específicas en lugar de permitir el acceso completo a su base de datos. Las razones principales son:\n",
    "\n",
    "- Prevención de la Sobrecarga del Servidor:\n",
    "\n",
    "Permitir el acceso masivo a toda la base de datos podría causar una sobrecarga en los servidores, afectando su rendimiento y estabilidad.\n",
    "Al limitar el acceso a solicitudes individuales, se garantiza un uso eficiente de los recursos.\n",
    "Control de Acceso Gratuito y de Pago:\n",
    "\n",
    "- La API ofrece niveles de acceso:\n",
    "\n",
    "**Gratuito**: Con limitaciones en la cantidad de solicitudes por día.\n",
    "\n",
    "**De Pago**: Permite un mayor número de solicitudes y más funcionalidades avanzadas.\n",
    "\n",
    "Este modelo ayuda a mantener el servicio sostenible económicamente.\n",
    "Protección del Contenido:\n",
    "La base de datos contiene información recopilada de múltiples fuentes, por lo que no puede ser distribuida en su totalidad para evitar el uso no autorizado o ilegal del contenido.\n",
    "Al proporcionar acceso controlado, se protege la propiedad intelectual y se asegura que los datos se usen de manera ética.\n",
    "\n",
    "- Conclusión\n",
    "OMDb API está diseñada para realizar búsquedas específicas y precisas a través de solicitudes individuales. Esto optimiza el rendimiento, protege los datos y ofrece un servicio equilibrado tanto para usuarios gratuitos como para aquellos con suscripción de pago.\n",
    "\n"
   ]
  },
  {
   "cell_type": "code",
   "execution_count": 13,
   "id": "e6c4993f-2626-4dd1-9999-2b04eaa402d9",
   "metadata": {},
   "outputs": [
    {
     "name": "stdin",
     "output_type": "stream",
     "text": [
      "ingrese la pelicula o serie  the flash\n"
     ]
    },
    {
     "name": "stdout",
     "output_type": "stream",
     "text": [
      "Título: The Flash\n",
      "Año: 2014–2023\n",
      "Género: Action, Adventure, Drama\n",
      "Director: N/A\n",
      "Actores: Grant Gustin, Candice Patton, Danielle Panabaker\n",
      "Trama: After being struck by lightning, Barry Allen wakes up from his coma to discover he's been given the power of super speed, becoming the Flash, and fighting crime in Central City.\n",
      "Poster URL: https://m.media-amazon.com/images/M/MV5BMjU0ZjZhNDQtMDhkYi00OWQyLWE3NGYtNzBlY2VmM2I4ZDg5XkEyXkFqcGc@._V1_SX300.jpg\n"
     ]
    }
   ],
   "source": [
    "# Configuración de la clave de la API y la URL\n",
    "api_key = \"538bda4b\"\n",
    "movie_title = input( \"ingrese la pelicula o serie \")  # Título de la película\n",
    "api_url = f\"http://www.omdbapi.com/?apikey={api_key}&t={movie_title}\"\n",
    "\n",
    "# Realizar la solicitud GET a la API\n",
    "response = requests.get(api_url)\n",
    "\n",
    "# Verificar si la solicitud fue exitosa\n",
    "if response.status_code == 200:\n",
    "    movie_data = response.json()\n",
    "    \n",
    "    # Verificar si la película fue encontrada\n",
    "    if movie_data.get(\"Response\") == \"True\":\n",
    "        # Mostrar información de la película\n",
    "        print(\"Título:\", movie_data.get(\"Title\"))\n",
    "        print(\"Año:\", movie_data.get(\"Year\"))\n",
    "        print(\"Género:\", movie_data.get(\"Genre\"))\n",
    "        print(\"Director:\", movie_data.get(\"Director\"))\n",
    "        print(\"Actores:\", movie_data.get(\"Actors\"))\n",
    "        print(\"Trama:\", movie_data.get(\"Plot\"))\n",
    "        print(\"Poster URL:\", movie_data.get(\"Poster\"))\n",
    "    else:\n",
    "        print(\"Error:\", movie_data.get(\"Error\"))\n",
    "else:\n",
    "    print(\"Error en la solicitud:\", response.status_code)"
   ]
  },
  {
   "cell_type": "code",
   "execution_count": null,
   "id": "496e2aa3-187e-424c-8749-a5cb8f60ee7c",
   "metadata": {},
   "outputs": [],
   "source": []
  }
 ],
 "metadata": {
  "kernelspec": {
   "display_name": "Python 3 (ipykernel)",
   "language": "python",
   "name": "python3"
  },
  "language_info": {
   "codemirror_mode": {
    "name": "ipython",
    "version": 3
   },
   "file_extension": ".py",
   "mimetype": "text/x-python",
   "name": "python",
   "nbconvert_exporter": "python",
   "pygments_lexer": "ipython3",
   "version": "3.12.4"
  }
 },
 "nbformat": 4,
 "nbformat_minor": 5
}
