{
 "cells": [
  {
   "cell_type": "markdown",
   "id": "48bec711-5f6e-4d63-8f5b-14ab5ea3359f",
   "metadata": {},
   "source": [
    "# The Movie Database (TMDb)"
   ]
  },
  {
   "cell_type": "markdown",
   "id": "861ffb3b-58aa-4115-bab4-8e508a986056",
   "metadata": {},
   "source": [
    "[TMDb](https://www.themoviedb.org/) (The Movie Database) es una base de datos colaborativa y en línea que proporciona información sobre películas,  \n",
    "series de televisión, actores y más. Es una plataforma impulsada por la comunidad, donde los usuarios pueden contribuir  \n",
    "agregando y editando contenido."
   ]
  },
  {
   "cell_type": "markdown",
   "id": "6a20d378-89fa-4cbb-9e72-303b2d5ee6ae",
   "metadata": {},
   "source": [
    "## Objetivos principales\n",
    "- Proporcionar información precisa y actualizada sobre películas, series, actores y otros datos relacionados.\n",
    "- Facilitar la integración de datos cinematográficos en aplicaciones, sitios web y proyectos personales a través de su API.\n",
    "- Fomentar una comunidad activa de usuarios para enriquecer la base de datos."
   ]
  },
  {
   "cell_type": "markdown",
   "id": "e7e8e543-f5ed-4fed-a70b-f4560312ee54",
   "metadata": {},
   "source": [
    "<div style=\"text-align: center;\">\n",
    "  <img src=\"https://blog.kakaocdn.net/dn/tFkUr/btsGQ3gLRvF/OKKqquYOf6ZaSwNxXh6qtK/img.png\" alt=\"TMDb\" width=\"400\" height=\"600\">\n",
    "</div>"
   ]
  },
  {
   "cell_type": "markdown",
   "id": "81fcbf91-5f06-4cd5-a0d8-8e11bb46c79b",
   "metadata": {},
   "source": [
    "## Características principales de la API\n",
    "La API de TMDb te permite realizar una variedad de consultas, incluyendo:\n",
    "\n",
    "1) **Búsqueda de contenido:**\n",
    "   - Películas\n",
    "   - Series de TV\n",
    "   - Personas (actores, directores, etc.)\n",
    "2) **Exploración por categorías:**\n",
    "   - Películas populares, en cartelera o mejor calificadas.\n",
    "   - Series más vistas o trending.\n",
    "3) **Obtener detalles:**\n",
    "   - Sinopsis, calificación, fecha de lanzamiento, género, y mucho más.\n",
    "4) **Soporte multilingüe:**\n",
    "   - Puedes consultar información en diferentes idiomas configurando el parámetro **`language `**.\n",
    "5) **Integración de recursos externos:**\n",
    "   - Enlaces a tráileres en YouTube, imágenes y carátulas, y proveedores de streaming.\n"
   ]
  },
  {
   "cell_type": "markdown",
   "id": "40dd6986-f0e9-4183-94b1-0a7ff134bd30",
   "metadata": {},
   "source": [
    "## Limitaciones del uso de TMDb API\n",
    "#### Cuentas gratuitas (Free)\n",
    "- **Número de solicitudes:** Máximo de 40 solicitudes por cada 10 segundos y hasta 1,000 solicitudes por día.\n",
    "- **Acceso a datos:** Información básica sobre películas, series y personas.\n",
    "- **Restricciones:** Acceso limitado a imágenes de alta calidad o ciertas funciones avanzadas.\n",
    "\n",
    "#### Cuentas premium (Patrocinador)\n",
    "Si decides convertirte en patrocinador de TMDb (pagando una suscripción), obtendrás beneficios como:\n",
    "\n",
    "- **Mayor límite de solicitudes:** Para proyectos con mayor demanda de datos.\n",
    "- **Acceso a imágenes en resoluciones más altas.**\n"
   ]
  },
  {
   "cell_type": "code",
   "execution_count": 3,
   "id": "911d4dd8-57ed-45c8-b9a5-9138a428d315",
   "metadata": {},
   "outputs": [
    {
     "name": "stdout",
     "output_type": "stream",
     "text": [
      "Película encontrada: Wicked (ID: 402431)\n",
      "\n",
      "--- Detalles de la película ---\n",
      "Título: Wicked\n",
      "Fecha de lanzamiento: 2024-11-20\n",
      "Sinopsis: Ambientada en la Tierra de Oz, mucho antes de la llegada de Dorothy Gale desde Kansas, la trama abarca los acontecimientos del primer acto del musical de Broadway. Elphaba es una joven incomprendida por su inusual color verde que aún no ha descubierto su verdadero poder. Glinda es una popular joven marcada por sus privilegios y su ambición que aún no ha descubierto su verdadera pasión. Las dos se conocen como estudiantes de la Universidad Shiz, en la fantástica Tierra de Oz, y forjan una insólita pero profunda amistad.\n",
      "Calificación promedio: 7.6 / 10\n",
      "Géneros: Drama, Romance, Fantasía\n",
      "Duración: 160 minutos\n",
      "Página oficial: \n",
      "Idioma original: en\n"
     ]
    }
   ],
   "source": [
    "import requests\n",
    "\n",
    "# Configuración de la API\n",
    "api_key = \"f6d6d0150dc01c08d2895f0689aba2c3\"  # Sustituye con tu API Key\n",
    "base_url = \"https://api.themoviedb.org/3\"\n",
    "movie_name = \"Wicked\"  # Sustituye con el nombre de la película que deseas buscar\n",
    "\n",
    "# Endpoint para buscar películas\n",
    "search_endpoint = f\"{base_url}/search/movie\"\n",
    "\n",
    "# Parámetros de la solicitud\n",
    "params = {\n",
    "    \"api_key\": api_key,\n",
    "    \"query\": movie_name,\n",
    "    \"language\": \"es-ES\",  # Cambiar el idioma según tus preferencias (por ejemplo, 'en-US' para inglés)\n",
    "}\n",
    "\n",
    "# Realizar la solicitud de búsqueda\n",
    "response = requests.get(search_endpoint, params=params)\n",
    "\n",
    "if response.status_code == 200:\n",
    "    search_results = response.json()\n",
    "    if search_results[\"results\"]:\n",
    "        # Obtener la primera película de los resultados\n",
    "        movie = search_results[\"results\"][0]\n",
    "        movie_id = movie[\"id\"]\n",
    "        print(f\"Película encontrada: {movie['title']} (ID: {movie_id})\")\n",
    "\n",
    "        # Obtener detalles adicionales de la película\n",
    "        movie_details_endpoint = f\"{base_url}/movie/{movie_id}\"\n",
    "        details_response = requests.get(movie_details_endpoint, params={\"api_key\": api_key, \"language\": \"es-ES\"})\n",
    "\n",
    "        if details_response.status_code == 200:\n",
    "            movie_details = details_response.json()\n",
    "            print(\"\\n--- Detalles de la película ---\")\n",
    "            print(f\"Título: {movie_details['title']}\")\n",
    "            print(f\"Fecha de lanzamiento: {movie_details['release_date']}\")\n",
    "            print(f\"Sinopsis: {movie_details['overview']}\")\n",
    "            print(f\"Calificación promedio: {movie_details['vote_average']} / 10\")\n",
    "            print(f\"Géneros: {', '.join([genre['name'] for genre in movie_details['genres']])}\")\n",
    "            print(f\"Duración: {movie_details['runtime']} minutos\")\n",
    "            print(f\"Página oficial: {movie_details.get('homepage', 'No disponible')}\")\n",
    "            print(f\"Idioma original: {movie_details['original_language']}\")\n",
    "    else:\n",
    "        print(f\"No se encontraron resultados para '{movie_name}'.\")\n",
    "else:\n",
    "    print(f\"Error {response.status_code}: {response.text}\")\n"
   ]
  },
  {
   "cell_type": "code",
   "execution_count": null,
   "id": "b4a7ee17-6e81-42d0-9121-d2904a4e2127",
   "metadata": {},
   "outputs": [],
   "source": []
  }
 ],
 "metadata": {
  "kernelspec": {
   "display_name": "Python 3 (ipykernel)",
   "language": "python",
   "name": "python3"
  },
  "language_info": {
   "codemirror_mode": {
    "name": "ipython",
    "version": 3
   },
   "file_extension": ".py",
   "mimetype": "text/x-python",
   "name": "python",
   "nbconvert_exporter": "python",
   "pygments_lexer": "ipython3",
   "version": "3.12.4"
  }
 },
 "nbformat": 4,
 "nbformat_minor": 5
}
